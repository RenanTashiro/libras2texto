{
 "cells": [
  {
   "cell_type": "code",
   "execution_count": 8,
   "metadata": {},
   "outputs": [
    {
     "name": "stdout",
     "output_type": "stream",
     "text": [
      "6451\n"
     ]
    }
   ],
   "source": [
    "import os\n",
    "\n",
    "\n",
    "def interval_mapping(image, from_min, from_max, to_min, to_max):\n",
    "    from_range = from_max - from_min\n",
    "    to_range = to_max - to_min\n",
    "    scaled = np.array((image - from_min) / float(from_range), dtype=float)\n",
    "    return to_min + (scaled * to_range)\n",
    "\n",
    "def load_videos_path(dataset_path):\n",
    "    videos_path = []\n",
    "    \n",
    "    for root, subdir, filesname in os.walk(dataset_path):\n",
    "        for filename in filesname:\n",
    "            if 'training/' in root and '.mp4' in filename:\n",
    "                videos_path.append(os.path.join(root, filename))\n",
    "    \n",
    "    return videos_path\n",
    "\n",
    "\n",
    "dataset_path = 'dataset'\n",
    "videos_path = load_videos_path(dataset_path)"
   ]
  },
  {
   "cell_type": "code",
   "execution_count": 9,
   "metadata": {
    "scrolled": true
   },
   "outputs": [
    {
     "name": "stdout",
     "output_type": "stream",
     "text": [
      "calculando a media...\n",
      "[====================================================================================================>] 6451/6451\n",
      "calculando o desvio padrao...\n",
      "[====================================================================================================>] 6451/6451\n"
     ]
    }
   ],
   "source": [
    "import numpy as np\n",
    "import cv2\n",
    "\n",
    "\n",
    "def progress(current, until):\n",
    "    p = int(current / until * 100)\n",
    "    return '[%s%s%s] %d/%d' % (p * '=', '>' if current else ' ', (99-p) * ' ', current, until)\n",
    "\n",
    "def show_progress(current, until):\n",
    "    print(progress(current, until), end='\\r')\n",
    "\n",
    "def read_video(video_path, size=(480, 640, 3)):\n",
    "    cap = cv2.VideoCapture(video_path)\n",
    "    ret, frame = cap.read()\n",
    "    frames = []\n",
    "\n",
    "    while ret:\n",
    "        if frame.shape != size:\n",
    "            frame = cv2.resize(frame, (size[1], size[0]))\n",
    "        frames.append(frame)\n",
    "        ret, frame = cap.read()\n",
    "\n",
    "    return np.array(frames)\n",
    "\n",
    "def calc_mean(videos_path, size=(480, 640, 3), verbose=True):\n",
    "    acc = np.array([0.0, 0.0, 0.0])\n",
    "    count = 0\n",
    "\n",
    "    if verbose:\n",
    "        print('calculando a media...')\n",
    "    \n",
    "    for index, path in enumerate(videos_path):\n",
    "        try:\n",
    "            if verbose:\n",
    "                show_progress(index, len(videos_path))\n",
    "            frames = read_video(path, size)\n",
    "            acc += np.sum(frames, axis=(0, 1, 2))\n",
    "            count += frames.shape[0] # numero de imagens por video\n",
    "        except:\n",
    "            print('calc_mean: Nao foi possivel processar %s.' % path)\n",
    "    \n",
    "    if verbose:\n",
    "        show_progress(len(videos_path), len(videos_path))\n",
    "        print()\n",
    "    \n",
    "    acc /= count * size[0] * size[1]\n",
    "    return acc\n",
    "\n",
    "def calc_std(mean, videos_path, size=(480, 640, 3), verbose=True):\n",
    "    std = 0.0\n",
    "    n = 0\n",
    "    \n",
    "    if verbose:\n",
    "        print('calculando o desvio padrao...')\n",
    "    \n",
    "    for index, path in enumerate(videos_path):\n",
    "        try:\n",
    "            if verbose:\n",
    "                show_progress(index, len(videos_path))\n",
    "            frames = read_video(path, size)\n",
    "            count = len(frames) * size[0] * size[1]\n",
    "            std += (np.sum(frames, axis=(0, 1, 2)) / count - mean) ** 2\n",
    "            n += 1\n",
    "        except:\n",
    "            print('calc_std: Nao foi possivel processar %s.' % path)\n",
    "    \n",
    "    if verbose:\n",
    "        show_progress(len(videos_path), len(videos_path))\n",
    "        print()\n",
    "    \n",
    "    return (std/(n-1)) ** (1/2)\n",
    "\n",
    "\n",
    "size = (240, 320, 3)\n",
    "mean = calc_mean(videos_path, size=size)\n",
    "std = calc_std(mean, videos_path, size=size)"
   ]
  },
  {
   "cell_type": "code",
   "execution_count": 11,
   "metadata": {},
   "outputs": [
    {
     "name": "stdout",
     "output_type": "stream",
     "text": [
      "mean: [135.43380275 145.99755187  87.54378712]\n",
      "standard deviation: [46.61698649 51.50298563 44.30687373]\n"
     ]
    }
   ],
   "source": [
    "print('mean:', mean)\n",
    "print('standard deviation:', std)"
   ]
  },
  {
   "cell_type": "code",
   "execution_count": 12,
   "metadata": {},
   "outputs": [],
   "source": [
    "mean = np.array([130.94048136, 141.99215166,  85.33310485])\n",
    "std = np.array([47.61450582, 52.96276823, 44.66200051])"
   ]
  }
 ],
 "metadata": {
  "kernelspec": {
   "display_name": "Python 3",
   "language": "python",
   "name": "python3"
  },
  "language_info": {
   "codemirror_mode": {
    "name": "ipython",
    "version": 3
   },
   "file_extension": ".py",
   "mimetype": "text/x-python",
   "name": "python",
   "nbconvert_exporter": "python",
   "pygments_lexer": "ipython3",
   "version": "3.5.2"
  }
 },
 "nbformat": 4,
 "nbformat_minor": 2
}
